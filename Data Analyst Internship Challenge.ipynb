{
 "cells": [
  {
   "cell_type": "code",
   "execution_count": 6,
   "metadata": {},
   "outputs": [
    {
     "name": "stdout",
     "output_type": "stream",
     "text": [
      "Mean:  3145.128\n",
      "Median:  284.0\n",
      "Standard deviation: 41278.4108884\n",
      "Minimum: 90.0\n",
      "Maximum: 704000.0\n",
      "Standard error: 583.823270363\n"
     ]
    },
    {
     "data": {
      "image/png": "[encoded data removed]",
      "text/plain": [
       "<matplotlib.figure.Figure at 0x11b235490>"
      ]
     },
     "metadata": {},
     "output_type": "display_data"
    },
    {
     "data": {
      "image/png": "[encoded data removed]",
      "text/plain": [
       "<matplotlib.figure.Figure at 0x10cdc3290>"
      ]
     },
     "metadata": {},
     "output_type": "display_data"
    },
    {
     "data": {
      "image/png": "[encoded data removed]",
      "text/plain": [
       "<matplotlib.figure.Figure at 0x11a48add0>"
      ]
     },
     "metadata": {},
     "output_type": "display_data"
    },
    {
     "name": "stdout",
     "output_type": "stream",
     "text": [
      "As we can see mean is greatly influenced by outliers hence median would be the best metric for AOV\n"
     ]
    }
   ],
   "source": [
    "import os\n",
    "import matplotlib.pyplot as plt\n",
    "import numpy as np\n",
    "from scipy import stats\n",
    "from openpyxl import load_workbook\n",
    "os.getcwd()\n",
    "os.chdir('/Users/vipulsrivastav/Downloads/')\n",
    "os.getcwd()\n",
    "a = []\n",
    "shops = {} \n",
    "wb = load_workbook(filename = 'DataChallengeWinter2018.xlsx')\n",
    "sheet = wb['Sheet1']\n",
    "##-- Lets do some exploratory Analysis on order amounts -- ## \n",
    "for x in range(2, sheet.max_row+1):\n",
    "    a.append(sheet['D'+str(x)].value)\n",
    "    shops[sheet['B'+str(x)].value] = 0\n",
    "for x in range(2, sheet.max_row+1): \n",
    "    ## creating dictionary of shops \n",
    "    #{key:shop_id, value:order_amount corresponding to shop id}\n",
    "    shops[sheet['B'+str(x)].value] = shops.get( sheet['B'+str(x)].value ) + sheet['D'+str(x)].value\n",
    "print \"Mean: \", np.mean(a)\n",
    "print \"Median: \", np.median(a)\n",
    "print 'Standard deviation:', np.std(a)\n",
    "print 'Minimum:', np.min(a)\n",
    "print 'Maximum:', np.max(a)\n",
    "print 'Standard error:', stats.sem(a)\n",
    "#box plot\n",
    "plt.boxplot(a)\n",
    "plt.show()\n",
    "# plotting values x ,y \n",
    "plt.plot(a)\n",
    "plt.xlabel('order_id')\n",
    "plt.ylabel('order_amount')\n",
    "plt.show()\n",
    "# histogram\n",
    "plt.hist(a)\n",
    "plt.show()\n",
    "\n",
    "print \"As we can see mean is greatly influenced by outliers hence median would be the best metric for AOV\"\n"
   ]
  },
  {
   "cell_type": "code",
   "execution_count": 5,
   "metadata": {},
   "outputs": [
    {
     "name": "stdout",
     "output_type": "stream",
     "text": [
      "Mean:  157256.4\n",
      "Median:  14887.5\n",
      "Standard deviation: 1210121.56805\n",
      "Minimum: 6840.0\n",
      "Maximum: 11990176.0\n",
      "Standard error: 121621.793695\n",
      "\n",
      " shop 6 Successful\n",
      "\n",
      " shop 10 Successful\n",
      "\n",
      " shop 11 Successful\n",
      "\n",
      " shop 12 Successful\n",
      "\n",
      " shop 13 Successful\n",
      "\n",
      " shop 15 Successful\n",
      "\n",
      " shop 17 Successful\n",
      "\n",
      " shop 18 Successful\n",
      "\n",
      " shop 19 Successful\n",
      "\n",
      " shop 23 Successful\n",
      "\n",
      " shop 24 Successful\n",
      "\n",
      " shop 26 Successful\n",
      "\n",
      " shop 27 Successful\n",
      "\n",
      " shop 29 Successful\n",
      "\n",
      " shop 30 Successful\n",
      "\n",
      " shop 33 Successful\n",
      "\n",
      " shop 35 Successful\n",
      "\n",
      " shop 37 Successful\n",
      "\n",
      " shop 41 Successful\n",
      "\n",
      " shop 42 Successful\n",
      "\n",
      " shop 43 Successful\n",
      "\n",
      " shop 45 Successful\n",
      "\n",
      " shop 46 Successful\n",
      "\n",
      " shop 50 Successful\n",
      "\n",
      " shop 51 Successful\n",
      "\n",
      " shop 55 Successful\n",
      "\n",
      " shop 57 Successful\n",
      "\n",
      " shop 58 Successful\n",
      "\n",
      " shop 59 Successful\n",
      "\n",
      " shop 60 Successful\n",
      "\n",
      " shop 61 Successful\n",
      "\n",
      " shop 63 Successful\n",
      "\n",
      " shop 65 Successful\n",
      "\n",
      " shop 66 Successful\n",
      "\n",
      " shop 69 Successful\n",
      "\n",
      " shop 70 Successful\n",
      "\n",
      " shop 71 Successful\n",
      "\n",
      " shop 73 Successful\n",
      "\n",
      " shop 78 Successful\n",
      "\n",
      " shop 79 Successful\n",
      "\n",
      " shop 81 Successful\n",
      "\n",
      " shop 84 Successful\n",
      "\n",
      " shop 87 Successful\n",
      "\n",
      " shop 88 Successful\n",
      "\n",
      " shop 89 Successful\n",
      "\n",
      " shop 90 Successful\n",
      "\n",
      " shop 91 Successful\n",
      "\n",
      " shop 96 Successful\n",
      "\n",
      " shop 97 Successful\n",
      "\n",
      " shop 99 Successful\n",
      "\n",
      " Again we find mean getting affected by outliers, hence median of shops order amount value will be the best metric to find out if a shop is successful or not\n",
      "\n",
      " No of succesful shops :  50\n"
     ]
    }
   ],
   "source": [
    "## now lets do some exploratory analysis of \n",
    "## shops dictionary and their orders amount totals\n",
    "## to find out a metric for successful shops\n",
    "shopsOrderValueArray = []\n",
    "for i in range(1,len(shops) + 1):\n",
    "    shopsOrderValueArray.append(shops.get(i))\n",
    "\n",
    "print \"Mean: \", np.mean(shopsOrderValueArray)\n",
    "print \"Median: \", np.median(shopsOrderValueArray)\n",
    "print 'Standard deviation:', np.std(shopsOrderValueArray)\n",
    "print 'Minimum:', np.min(shopsOrderValueArray)\n",
    "print 'Maximum:', np.max(shopsOrderValueArray)\n",
    "print 'Standard error:', stats.sem(shopsOrderValueArray)\n",
    "countShopSuccess = 0\n",
    "for i in range(1,len(shops) + 1):\n",
    "    if shops.get(i) >= np.median(shopsOrderValueArray): \n",
    "        print \"\\n shop\" , i , \"Successful\"\n",
    "        countShopSuccess = countShopSuccess + 1 \n",
    "print \"\\n Again we find mean getting affected by outliers, hence median of shops order amount value will be the best metric to find out if a shop is successful or not\"\n",
    "print \"\\n No of succesful shops : \" , countShopSuccess        "
   ]
  },
  {
   "cell_type": "code",
   "execution_count": null,
   "metadata": {
    "collapsed": true
   },
   "outputs": [],
   "source": []
  }
 ],
 "metadata": {
  "kernelspec": {
   "display_name": "Python 2",
   "language": "python",
   "name": "python2"
  },
  "language_info": {
   "codemirror_mode": {
    "name": "ipython",
    "version": 2
   },
   "file_extension": ".py",
   "mimetype": "text/x-python",
   "name": "python",
   "nbconvert_exporter": "python",
   "pygments_lexer": "ipython2",
   "version": "2.7.13"
  }
 },
 "nbformat": 4,
 "nbformat_minor": 2
}
